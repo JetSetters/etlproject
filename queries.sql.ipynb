{
 "cells": [
  {
   "cell_type": "code",
   "execution_count": null,
   "metadata": {},
   "outputs": [],
   "source": [
    "-- create and use flight_db\n",
    "create database flight_db;\n",
    "USE flight_db; \n",
    "\n",
    "-- Create tables for raw data to be loaded into\n",
    "\n",
    "create tables carrier_name(\n",
    "arr_flights INT primary key,\n",
    "carrier TEXT,\n",
    "airport_name TEXT\n",
    ");\n",
    "create tables carrier_delay(\n",
    "arr_flights INT primary key,\n",
    "security_ct TEXT,\n",
    "weather_delay TEXT\n",
    ");\n",
    "\n",
    "--Join the tables \n",
    "SELECT carrier_name.id, carrier_name.carrier, carrier_name.airport_name , \n",
    "carrier_delay.security_ct, carrier_delay.weather_delay\n",
    "FROM carrier_name\n",
    "JOIN carrier_delay\n",
    "ON carrier_name.id = carrier_delay.id; "
   ]
  }
 ],
 "metadata": {
  "kernelspec": {
   "display_name": "Python 3",
   "language": "python",
   "name": "python3"
  },
  "language_info": {
   "codemirror_mode": {
    "name": "ipython",
    "version": 3
   },
   "file_extension": ".py",
   "mimetype": "text/x-python",
   "name": "python",
   "nbconvert_exporter": "python",
   "pygments_lexer": "ipython3",
   "version": "3.7.0"
  }
 },
 "nbformat": 4,
 "nbformat_minor": 2
}
